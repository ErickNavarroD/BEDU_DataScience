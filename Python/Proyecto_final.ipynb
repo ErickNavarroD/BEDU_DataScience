{
  "nbformat": 4,
  "nbformat_minor": 0,
  "metadata": {
    "kernelspec": {
      "display_name": "Python 3",
      "language": "python",
      "name": "python3"
    },
    "language_info": {
      "codemirror_mode": {
        "name": "ipython",
        "version": 3
      },
      "file_extension": ".py",
      "mimetype": "text/x-python",
      "name": "python",
      "nbconvert_exporter": "python",
      "pygments_lexer": "ipython3",
      "version": "3.7.6"
    },
    "colab": {
      "name": "Proyecto.ipynb",
      "provenance": [],
      "collapsed_sections": [
        "MC6RcKajZN3l"
      ]
    }
  },
  "cells": [
    {
      "cell_type": "markdown",
      "metadata": {
        "id": "MC6RcKajZN3l"
      },
      "source": [
        "# Proyecto final BEDU\n",
        "**Módulo 3: Procesamiento de datos con Python**  \n",
        "**Integrantes**:\n",
        "* Andrés Orduña\n",
        "* Erick Isaac Navarro Delgado\n",
        "* José Hernández\n",
        "* Ricardo Yair Nava\n",
        "\n",
        "# Antecedentes \n",
        "\n",
        "El SARS-CoV-2 es un virus perteneciente a la familia de los coronavirus causante de la enfermedad COVID-19. Dicho virus se ha dispersado rápidamente en todo el mundo, dando lugar a una de las pandemias más grandes y serias que el mundo haya visto en décadas.\n",
        "\n",
        "Esta pandemia ha impactado diversas facetas de la vida humana como la educación y ha comprometido la economía de muchas personas, así como el sistema de salud de todos los gobiernos en el mundo. \n",
        "\n",
        "Contar con modelos que predigan el comportamiento del número de infectados en el futuro es altamente deseado debido a que podrían ayudar a conocer los escenarios más probables y, de esta manera, mitigar las pérdidas humanas sin comprometer la economía del país. \n",
        "\n",
        "En este proyecto, se concentrarán los datos relevantes para el desarrollo posterior de un modelo que tome en cuenta el número de casos, muertes, la movilidad y el inicio de la reciente estrategia de vacunación en México.\n",
        "\n",
        "# Problema\n",
        "Debido a los múltiples factores que regulan la dinámica de contagio del SARS-CoV-2, pocos modelos han logrado predecir correctamente el comportamiento de este fenómeno en el país. \n",
        "\n",
        "# Preguntas clave\n",
        "* ¿Es posible hacer un modelo lineal que se ajuste a la evolución de la pandemia a partir de las variables contempladas?\n",
        "* ¿Es posible hacer un modelo de series de tiempo que sea adecuado para describir la evolución de la pandemia?\n",
        "* ¿Es posible hacer una predicción de la evolución de la pandemia con un horizonte de tiempo relativamente significativo?\n",
        "* ¿Hay variables, además de las ya mencionadas, que expliquen mejor la evolución de los contagios?\n",
        "\n",
        "# Hipótesis\n",
        "La dinámica del contagio del SARS-CoV-2 se podrá modelar con variables como el número de contagios, el número de desesos, el numero de vacunados y la movilidad urbana.\n",
        "\n",
        "Las primeras tres variables serán útiles para generar un modelo epidemiológico tipo SIR (Susceptibles, Infectados, Recuperados). Mientras que la variable de movilidad urbana servirá para probar otros modelos que consideren mas variables.\n",
        "\n",
        "# Colección de datos\n",
        "Para responder las preguntas previamente planteadas, obtuvimos datos de cuatro bases distintas que contenían información de: \n",
        "* [Número de casos](https://data.humdata.org/hxlproxy/data/download/time_series_covid19_confirmed_global_narrow.csv?dest=data_edit&filter01=explode&explode-header-att01=date&explode-value-att01=value&filter02=rename&rename-oldtag02=%23affected%2Bdate&rename-newtag02=%23date&rename-header02=Date&filter03=rename&rename-oldtag03=%23affected%2Bvalue&rename-newtag03=%23affected%2Binfected%2Bvalue%2Bnum&rename-header03=Value&filter04=clean&clean-date-tags04=%23date&filter05=sort&sort-tags05=%23date&sort-reverse05=on&filter06=sort&sort-tags06=%23country%2Bname%2C%23adm1%2Bname&tagger-match-all=on&tagger-default-tag=%23affected%2Blabel&tagger-01-header=province%2Fstate&tagger-01-tag=%23adm1%2Bname&tagger-02-header=country%2Fregion&tagger-02-tag=%23country%2Bname&tagger-03-header=lat&tagger-03-tag=%23geo%2Blat&tagger-04-header=long&tagger-04-tag=%23geo%2Blon&header-row=1&url=https%3A%2F%2Fraw.githubusercontent.com%2FCSSEGISandData%2FCOVID-19%2Fmaster%2Fcsse_covid_19_data%2Fcsse_covid_19_time_series%2Ftime_series_covid19_confirmed_global.csv)\n",
        "* [Número de muertes](https://data.humdata.org/hxlproxy/data/download/time_series_covid19_deaths_global_narrow.csv?dest=data_edit&filter01=explode&explode-header-att01=date&explode-value-att01=value&filter02=rename&rename-oldtag02=%23affected%2Bdate&rename-newtag02=%23date&rename-header02=Date&filter03=rename&rename-oldtag03=%23affected%2Bvalue&rename-newtag03=%23affected%2Binfected%2Bvalue%2Bnum&rename-header03=Value&filter04=clean&clean-date-tags04=%23date&filter05=sort&sort-tags05=%23date&sort-reverse05=on&filter06=sort&sort-tags06=%23country%2Bname%2C%23adm1%2Bname&tagger-match-all=on&tagger-default-tag=%23affected%2Blabel&tagger-01-header=province%2Fstate&tagger-01-tag=%23adm1%2Bname&tagger-02-header=country%2Fregion&tagger-02-tag=%23country%2Bname&tagger-03-header=lat&tagger-03-tag=%23geo%2Blat&tagger-04-header=long&tagger-04-tag=%23geo%2Blon&header-row=1&url=https%3A%2F%2Fraw.githubusercontent.com%2FCSSEGISandData%2FCOVID-19%2Fmaster%2Fcsse_covid_19_data%2Fcsse_covid_19_time_series%2Ftime_series_covid19_deaths_global.csv)\n",
        "* [Número de vacunas](https://proxy.hxlstandard.org/data.csv?tagger-match-all=on&tagger-01-header=location&tagger-01-tag=%23country%2Bname&tagger-02-header=iso_code&tagger-02-tag=%23country%2Bcode&tagger-03-header=date&tagger-03-tag=%23date&tagger-04-header=total_vaccinations&tagger-04-tag=%23total%2Bvaccinations&tagger-08-header=daily_vaccinations&tagger-08-tag=%23total%2Bvaccinations%2Bdaily&url=https%3A%2F%2Fraw.githubusercontent.com%2Fowid%2Fcovid-19-data%2Fmaster%2Fpublic%2Fdata%2Fvaccinations%2Fvaccinations.csv&header-row=1&dest=data_view)\n",
        "* [Movilidad](https://www.gstatic.com/covid19/mobility/Global_Mobility_Report.csv)\n",
        "\n",
        "# Análisis exploratorio, limpieza y transformación de datos"
      ]
    },
    {
      "cell_type": "markdown",
      "metadata": {
        "id": "X-jI69CpYOEu"
      },
      "source": [
        "## Casos de COVID-19"
      ]
    },
    {
      "cell_type": "markdown",
      "metadata": {
        "id": "J9U1RXl0YOEv"
      },
      "source": [
        "Como primer paso, cargamos los datos relacionados a los casos de COVID-19 para su lectura y visuaización."
      ]
    },
    {
      "cell_type": "code",
      "metadata": {
        "id": "jT3IabfJYOEw"
      },
      "source": [
        "import pandas as pd\n",
        "import numpy as np \n",
        "import matplotlib.pyplot as plt\n",
        "\n",
        "url_1=\"https://data.humdata.org/hxlproxy/data/download/time_series_covid19_confirmed_global_narrow.csv?dest=data_edit&filter01=explode&explode-header-att01=date&explode-value-att01=value&filter02=rename&rename-oldtag02=%23affected%2Bdate&rename-newtag02=%23date&rename-header02=Date&filter03=rename&rename-oldtag03=%23affected%2Bvalue&rename-newtag03=%23affected%2Binfected%2Bvalue%2Bnum&rename-header03=Value&filter04=clean&clean-date-tags04=%23date&filter05=sort&sort-tags05=%23date&sort-reverse05=on&filter06=sort&sort-tags06=%23country%2Bname%2C%23adm1%2Bname&tagger-match-all=on&tagger-default-tag=%23affected%2Blabel&tagger-01-header=province%2Fstate&tagger-01-tag=%23adm1%2Bname&tagger-02-header=country%2Fregion&tagger-02-tag=%23country%2Bname&tagger-03-header=lat&tagger-03-tag=%23geo%2Blat&tagger-04-header=long&tagger-04-tag=%23geo%2Blon&header-row=1&url=https%3A%2F%2Fraw.githubusercontent.com%2FCSSEGISandData%2FCOVID-19%2Fmaster%2Fcsse_covid_19_data%2Fcsse_covid_19_time_series%2Ftime_series_covid19_confirmed_global.csv\""
      ],
      "execution_count": null,
      "outputs": []
    },
    {
      "cell_type": "code",
      "metadata": {
        "id": "PKWUgN5EYOEw"
      },
      "source": [
        "covid_casos=pd.read_csv(url_1)"
      ],
      "execution_count": null,
      "outputs": []
    },
    {
      "cell_type": "code",
      "metadata": {
        "colab": {
          "base_uri": "https://localhost:8080/",
          "height": 195
        },
        "id": "ffLYmfvQYOEx",
        "outputId": "5d28af19-f7cc-42cb-ad5b-c9735637a922"
      },
      "source": [
        "covid_casos.head()"
      ],
      "execution_count": null,
      "outputs": [
        {
          "output_type": "execute_result",
          "data": {
            "text/html": [
              "<div>\n",
              "<style scoped>\n",
              "    .dataframe tbody tr th:only-of-type {\n",
              "        vertical-align: middle;\n",
              "    }\n",
              "\n",
              "    .dataframe tbody tr th {\n",
              "        vertical-align: top;\n",
              "    }\n",
              "\n",
              "    .dataframe thead th {\n",
              "        text-align: right;\n",
              "    }\n",
              "</style>\n",
              "<table border=\"1\" class=\"dataframe\">\n",
              "  <thead>\n",
              "    <tr style=\"text-align: right;\">\n",
              "      <th></th>\n",
              "      <th>Province/State</th>\n",
              "      <th>Country/Region</th>\n",
              "      <th>Lat</th>\n",
              "      <th>Long</th>\n",
              "      <th>Date</th>\n",
              "      <th>Value</th>\n",
              "    </tr>\n",
              "  </thead>\n",
              "  <tbody>\n",
              "    <tr>\n",
              "      <th>0</th>\n",
              "      <td>#adm1+name</td>\n",
              "      <td>#country+name</td>\n",
              "      <td>#geo+lat</td>\n",
              "      <td>#geo+lon</td>\n",
              "      <td>#date</td>\n",
              "      <td>#affected+infected+value+num</td>\n",
              "    </tr>\n",
              "    <tr>\n",
              "      <th>1</th>\n",
              "      <td>NaN</td>\n",
              "      <td>Afghanistan</td>\n",
              "      <td>33.93911</td>\n",
              "      <td>67.709953</td>\n",
              "      <td>2021-03-13</td>\n",
              "      <td>55959</td>\n",
              "    </tr>\n",
              "    <tr>\n",
              "      <th>2</th>\n",
              "      <td>NaN</td>\n",
              "      <td>Afghanistan</td>\n",
              "      <td>33.93911</td>\n",
              "      <td>67.709953</td>\n",
              "      <td>2021-03-12</td>\n",
              "      <td>55959</td>\n",
              "    </tr>\n",
              "    <tr>\n",
              "      <th>3</th>\n",
              "      <td>NaN</td>\n",
              "      <td>Afghanistan</td>\n",
              "      <td>33.93911</td>\n",
              "      <td>67.709953</td>\n",
              "      <td>2021-03-11</td>\n",
              "      <td>55917</td>\n",
              "    </tr>\n",
              "    <tr>\n",
              "      <th>4</th>\n",
              "      <td>NaN</td>\n",
              "      <td>Afghanistan</td>\n",
              "      <td>33.93911</td>\n",
              "      <td>67.709953</td>\n",
              "      <td>2021-03-10</td>\n",
              "      <td>55894</td>\n",
              "    </tr>\n",
              "  </tbody>\n",
              "</table>\n",
              "</div>"
            ],
            "text/plain": [
              "  Province/State Country/Region  ...        Date                         Value\n",
              "0     #adm1+name  #country+name  ...       #date  #affected+infected+value+num\n",
              "1            NaN    Afghanistan  ...  2021-03-13                         55959\n",
              "2            NaN    Afghanistan  ...  2021-03-12                         55959\n",
              "3            NaN    Afghanistan  ...  2021-03-11                         55917\n",
              "4            NaN    Afghanistan  ...  2021-03-10                         55894\n",
              "\n",
              "[5 rows x 6 columns]"
            ]
          },
          "metadata": {
            "tags": []
          },
          "execution_count": 5
        }
      ]
    },
    {
      "cell_type": "markdown",
      "metadata": {
        "id": "uhnrq8kjYOEx"
      },
      "source": [
        "Como podemos observar, esta base de datos contiene datos de países de todo el mundo. Para completar nuestro objetivo de hacer un modelo con los datos de México, realizamos un filtro para quedarnos únicamente con los casos de este país a lo largo del tiempo"
      ]
    },
    {
      "cell_type": "code",
      "metadata": {
        "id": "ddIIsNs3YOEy"
      },
      "source": [
        "mexico_casos=covid_casos[covid_casos['Country/Region']==\"Mexico\"]"
      ],
      "execution_count": null,
      "outputs": []
    },
    {
      "cell_type": "code",
      "metadata": {
        "colab": {
          "base_uri": "https://localhost:8080/",
          "height": 195
        },
        "id": "dcsNW_zCYOEy",
        "outputId": "9013917d-7594-416d-bbaa-bf8b252d68e1"
      },
      "source": [
        "mexico_casos.head()"
      ],
      "execution_count": null,
      "outputs": [
        {
          "output_type": "execute_result",
          "data": {
            "text/html": [
              "<div>\n",
              "<style scoped>\n",
              "    .dataframe tbody tr th:only-of-type {\n",
              "        vertical-align: middle;\n",
              "    }\n",
              "\n",
              "    .dataframe tbody tr th {\n",
              "        vertical-align: top;\n",
              "    }\n",
              "\n",
              "    .dataframe thead th {\n",
              "        text-align: right;\n",
              "    }\n",
              "</style>\n",
              "<table border=\"1\" class=\"dataframe\">\n",
              "  <thead>\n",
              "    <tr style=\"text-align: right;\">\n",
              "      <th></th>\n",
              "      <th>Province/State</th>\n",
              "      <th>Country/Region</th>\n",
              "      <th>Lat</th>\n",
              "      <th>Long</th>\n",
              "      <th>Date</th>\n",
              "      <th>Value</th>\n",
              "    </tr>\n",
              "  </thead>\n",
              "  <tbody>\n",
              "    <tr>\n",
              "      <th>75061</th>\n",
              "      <td>NaN</td>\n",
              "      <td>Mexico</td>\n",
              "      <td>23.6345</td>\n",
              "      <td>-102.5528</td>\n",
              "      <td>2021-03-13</td>\n",
              "      <td>2163875</td>\n",
              "    </tr>\n",
              "    <tr>\n",
              "      <th>75062</th>\n",
              "      <td>NaN</td>\n",
              "      <td>Mexico</td>\n",
              "      <td>23.6345</td>\n",
              "      <td>-102.5528</td>\n",
              "      <td>2021-03-12</td>\n",
              "      <td>2157771</td>\n",
              "    </tr>\n",
              "    <tr>\n",
              "      <th>75063</th>\n",
              "      <td>NaN</td>\n",
              "      <td>Mexico</td>\n",
              "      <td>23.6345</td>\n",
              "      <td>-102.5528</td>\n",
              "      <td>2021-03-11</td>\n",
              "      <td>2150955</td>\n",
              "    </tr>\n",
              "    <tr>\n",
              "      <th>75064</th>\n",
              "      <td>NaN</td>\n",
              "      <td>Mexico</td>\n",
              "      <td>23.6345</td>\n",
              "      <td>-102.5528</td>\n",
              "      <td>2021-03-10</td>\n",
              "      <td>2144486</td>\n",
              "    </tr>\n",
              "    <tr>\n",
              "      <th>75065</th>\n",
              "      <td>NaN</td>\n",
              "      <td>Mexico</td>\n",
              "      <td>23.6345</td>\n",
              "      <td>-102.5528</td>\n",
              "      <td>2021-03-09</td>\n",
              "      <td>2137884</td>\n",
              "    </tr>\n",
              "  </tbody>\n",
              "</table>\n",
              "</div>"
            ],
            "text/plain": [
              "      Province/State Country/Region      Lat       Long        Date    Value\n",
              "75061            NaN         Mexico  23.6345  -102.5528  2021-03-13  2163875\n",
              "75062            NaN         Mexico  23.6345  -102.5528  2021-03-12  2157771\n",
              "75063            NaN         Mexico  23.6345  -102.5528  2021-03-11  2150955\n",
              "75064            NaN         Mexico  23.6345  -102.5528  2021-03-10  2144486\n",
              "75065            NaN         Mexico  23.6345  -102.5528  2021-03-09  2137884"
            ]
          },
          "metadata": {
            "tags": []
          },
          "execution_count": 7
        }
      ]
    },
    {
      "cell_type": "markdown",
      "metadata": {
        "id": "CP5Yj6HnYOEz"
      },
      "source": [
        "Como control adicional, verificamos que no tengamos latitudes y longitudes correspondientes a otros lugares."
      ]
    },
    {
      "cell_type": "code",
      "metadata": {
        "colab": {
          "base_uri": "https://localhost:8080/"
        },
        "id": "YTohH05sYOEz",
        "outputId": "8dc51d36-7b97-4f4c-e3ee-61168df7c21f"
      },
      "source": [
        "pd.unique(mexico_casos['Lat'])"
      ],
      "execution_count": null,
      "outputs": [
        {
          "output_type": "execute_result",
          "data": {
            "text/plain": [
              "array(['23.6345'], dtype=object)"
            ]
          },
          "metadata": {
            "tags": []
          },
          "execution_count": 8
        }
      ]
    },
    {
      "cell_type": "markdown",
      "metadata": {
        "id": "TP7AsXy0YOE0"
      },
      "source": [
        "Posteriormente, eliminamos las columnas que serán irrelevantes para nuestro análisis y no poseen información alguna. "
      ]
    },
    {
      "cell_type": "code",
      "metadata": {
        "id": "p9VPiXekYOE0"
      },
      "source": [
        "mexico_casos=mexico_casos.drop(columns=['Province/State','Country/Region','Lat','Long'])"
      ],
      "execution_count": null,
      "outputs": []
    },
    {
      "cell_type": "code",
      "metadata": {
        "colab": {
          "base_uri": "https://localhost:8080/",
          "height": 195
        },
        "id": "Yti2vWqLYOE1",
        "outputId": "c36dee54-4f42-4d68-fc7c-0b8708286dc2"
      },
      "source": [
        "mexico_casos.head()"
      ],
      "execution_count": null,
      "outputs": [
        {
          "output_type": "execute_result",
          "data": {
            "text/html": [
              "<div>\n",
              "<style scoped>\n",
              "    .dataframe tbody tr th:only-of-type {\n",
              "        vertical-align: middle;\n",
              "    }\n",
              "\n",
              "    .dataframe tbody tr th {\n",
              "        vertical-align: top;\n",
              "    }\n",
              "\n",
              "    .dataframe thead th {\n",
              "        text-align: right;\n",
              "    }\n",
              "</style>\n",
              "<table border=\"1\" class=\"dataframe\">\n",
              "  <thead>\n",
              "    <tr style=\"text-align: right;\">\n",
              "      <th></th>\n",
              "      <th>Date</th>\n",
              "      <th>Value</th>\n",
              "    </tr>\n",
              "  </thead>\n",
              "  <tbody>\n",
              "    <tr>\n",
              "      <th>75061</th>\n",
              "      <td>2021-03-13</td>\n",
              "      <td>2163875</td>\n",
              "    </tr>\n",
              "    <tr>\n",
              "      <th>75062</th>\n",
              "      <td>2021-03-12</td>\n",
              "      <td>2157771</td>\n",
              "    </tr>\n",
              "    <tr>\n",
              "      <th>75063</th>\n",
              "      <td>2021-03-11</td>\n",
              "      <td>2150955</td>\n",
              "    </tr>\n",
              "    <tr>\n",
              "      <th>75064</th>\n",
              "      <td>2021-03-10</td>\n",
              "      <td>2144486</td>\n",
              "    </tr>\n",
              "    <tr>\n",
              "      <th>75065</th>\n",
              "      <td>2021-03-09</td>\n",
              "      <td>2137884</td>\n",
              "    </tr>\n",
              "  </tbody>\n",
              "</table>\n",
              "</div>"
            ],
            "text/plain": [
              "             Date    Value\n",
              "75061  2021-03-13  2163875\n",
              "75062  2021-03-12  2157771\n",
              "75063  2021-03-11  2150955\n",
              "75064  2021-03-10  2144486\n",
              "75065  2021-03-09  2137884"
            ]
          },
          "metadata": {
            "tags": []
          },
          "execution_count": 10
        }
      ]
    },
    {
      "cell_type": "markdown",
      "metadata": {
        "id": "7GZcUdz5YOE4"
      },
      "source": [
        "Después, modificamos los tipos de datos de las columnas para que correspondan con el tipo de dato que tenemos en esos campos. "
      ]
    },
    {
      "cell_type": "code",
      "metadata": {
        "colab": {
          "base_uri": "https://localhost:8080/"
        },
        "id": "RH5w1rkfYOE5",
        "outputId": "849f2709-06b9-4a30-c4b9-e074f7a1d97b"
      },
      "source": [
        "mexico_casos.dtypes"
      ],
      "execution_count": null,
      "outputs": [
        {
          "output_type": "execute_result",
          "data": {
            "text/plain": [
              "Date     object\n",
              "Value    object\n",
              "dtype: object"
            ]
          },
          "metadata": {
            "tags": []
          },
          "execution_count": 11
        }
      ]
    },
    {
      "cell_type": "code",
      "metadata": {
        "id": "jz1dVdjjYOE6"
      },
      "source": [
        "mexico_casos['Value']=pd.to_numeric(mexico_casos['Value'],errors='coerce')\n",
        "mexico_casos['Date']=pd.to_datetime(mexico_casos['Date'], errors='coerce')"
      ],
      "execution_count": null,
      "outputs": []
    },
    {
      "cell_type": "code",
      "metadata": {
        "colab": {
          "base_uri": "https://localhost:8080/"
        },
        "id": "Ylr1RbP1YOE6",
        "outputId": "f7e48f74-940b-4fce-ab10-ce295f891a78"
      },
      "source": [
        "mexico_casos.dtypes"
      ],
      "execution_count": null,
      "outputs": [
        {
          "output_type": "execute_result",
          "data": {
            "text/plain": [
              "Date     datetime64[ns]\n",
              "Value             int64\n",
              "dtype: object"
            ]
          },
          "metadata": {
            "tags": []
          },
          "execution_count": 13
        }
      ]
    },
    {
      "cell_type": "code",
      "metadata": {
        "colab": {
          "base_uri": "https://localhost:8080/",
          "height": 195
        },
        "id": "roUYDWpbYOE7",
        "outputId": "8c1606a4-25bc-4f61-8f8f-54ac300c05bc"
      },
      "source": [
        "mexico_casos.head()"
      ],
      "execution_count": null,
      "outputs": [
        {
          "output_type": "execute_result",
          "data": {
            "text/html": [
              "<div>\n",
              "<style scoped>\n",
              "    .dataframe tbody tr th:only-of-type {\n",
              "        vertical-align: middle;\n",
              "    }\n",
              "\n",
              "    .dataframe tbody tr th {\n",
              "        vertical-align: top;\n",
              "    }\n",
              "\n",
              "    .dataframe thead th {\n",
              "        text-align: right;\n",
              "    }\n",
              "</style>\n",
              "<table border=\"1\" class=\"dataframe\">\n",
              "  <thead>\n",
              "    <tr style=\"text-align: right;\">\n",
              "      <th></th>\n",
              "      <th>Date</th>\n",
              "      <th>Value</th>\n",
              "    </tr>\n",
              "  </thead>\n",
              "  <tbody>\n",
              "    <tr>\n",
              "      <th>75061</th>\n",
              "      <td>2021-03-13</td>\n",
              "      <td>2163875</td>\n",
              "    </tr>\n",
              "    <tr>\n",
              "      <th>75062</th>\n",
              "      <td>2021-03-12</td>\n",
              "      <td>2157771</td>\n",
              "    </tr>\n",
              "    <tr>\n",
              "      <th>75063</th>\n",
              "      <td>2021-03-11</td>\n",
              "      <td>2150955</td>\n",
              "    </tr>\n",
              "    <tr>\n",
              "      <th>75064</th>\n",
              "      <td>2021-03-10</td>\n",
              "      <td>2144486</td>\n",
              "    </tr>\n",
              "    <tr>\n",
              "      <th>75065</th>\n",
              "      <td>2021-03-09</td>\n",
              "      <td>2137884</td>\n",
              "    </tr>\n",
              "  </tbody>\n",
              "</table>\n",
              "</div>"
            ],
            "text/plain": [
              "            Date    Value\n",
              "75061 2021-03-13  2163875\n",
              "75062 2021-03-12  2157771\n",
              "75063 2021-03-11  2150955\n",
              "75064 2021-03-10  2144486\n",
              "75065 2021-03-09  2137884"
            ]
          },
          "metadata": {
            "tags": []
          },
          "execution_count": 14
        }
      ]
    },
    {
      "cell_type": "markdown",
      "metadata": {
        "id": "OFMvQkiVYOE7"
      },
      "source": [
        "Finalmente, hacemos una visualización rápida de los datos para observar su comportamiento."
      ]
    },
    {
      "cell_type": "code",
      "metadata": {
        "colab": {
          "base_uri": "https://localhost:8080/",
          "height": 294
        },
        "id": "HmtG1PhQYOE8",
        "outputId": "c26fe38c-7224-481c-99c8-2356354d2485"
      },
      "source": [
        "plt.plot(mexico_casos['Date'],mexico_casos['Value'])"
      ],
      "execution_count": null,
      "outputs": [
        {
          "output_type": "execute_result",
          "data": {
            "text/plain": [
              "[<matplotlib.lines.Line2D at 0x7fbc371c7690>]"
            ]
          },
          "metadata": {
            "tags": []
          },
          "execution_count": 15
        },
        {
          "output_type": "display_data",
          "data": {
            "image/png": "[encoded data removed]",
            "text/plain": [
              "<Figure size 432x288 with 1 Axes>"
            ]
          },
          "metadata": {
            "tags": [],
            "needs_background": "light"
          }
        }
      ]
    },
    {
      "cell_type": "markdown",
      "metadata": {
        "id": "2tI_jxO-YOE8"
      },
      "source": [
        "Además, contamos la cantidad de reportes para estimar la cantidad de días de los cuales tenemos información en el país"
      ]
    },
    {
      "cell_type": "code",
      "metadata": {
        "colab": {
          "base_uri": "https://localhost:8080/"
        },
        "id": "LmNjZr0jYOE9",
        "outputId": "10eb9d82-299a-4642-936f-1bd8a37dddd2"
      },
      "source": [
        "mexico_casos.count"
      ],
      "execution_count": null,
      "outputs": [
        {
          "output_type": "execute_result",
          "data": {
            "text/plain": [
              "<bound method DataFrame.count of             Date    Value\n",
              "75061 2021-03-13  2163875\n",
              "75062 2021-03-12  2157771\n",
              "75063 2021-03-11  2150955\n",
              "75064 2021-03-10  2144486\n",
              "75065 2021-03-09  2137884\n",
              "...          ...      ...\n",
              "75473 2020-01-26        0\n",
              "75474 2020-01-25        0\n",
              "75475 2020-01-24        0\n",
              "75476 2020-01-23        0\n",
              "75477 2020-01-22        0\n",
              "\n",
              "[417 rows x 2 columns]>"
            ]
          },
          "metadata": {
            "tags": []
          },
          "execution_count": 16
        }
      ]
    },
    {
      "cell_type": "markdown",
      "metadata": {
        "id": "RTfoY_sGYOE9"
      },
      "source": [
        "Posteriormente, generamos un data frame con los casos diarios de COVID-19 a partir de los datos acumulados y lo visualizamos."
      ]
    },
    {
      "cell_type": "code",
      "metadata": {
        "id": "QRVhAZW_YOE_"
      },
      "source": [
        "mexico_casos=mexico_casos.sort_values(by='Date',axis=0, ascending=True)"
      ],
      "execution_count": null,
      "outputs": []
    },
    {
      "cell_type": "code",
      "metadata": {
        "colab": {
          "base_uri": "https://localhost:8080/",
          "height": 282
        },
        "id": "SSiab9k6YOE_",
        "outputId": "a7147f29-225f-4ed2-852b-da94373ee271"
      },
      "source": [
        "plt.plot(mexico_casos['Date'],np.append(0,np.diff(mexico_casos['Value'],n=1)))"
      ],
      "execution_count": null,
      "outputs": [
        {
          "output_type": "execute_result",
          "data": {
            "text/plain": [
              "[<matplotlib.lines.Line2D at 0x7fbc33ced390>]"
            ]
          },
          "metadata": {
            "tags": []
          },
          "execution_count": 18
        },
        {
          "output_type": "display_data",
          "data": {
            "image/png": "[encoded data removed]",
            "text/plain": [
              "<Figure size 432x288 with 1 Axes>"
            ]
          },
          "metadata": {
            "tags": [],
            "needs_background": "light"
          }
        }
      ]
    },
    {
      "cell_type": "markdown",
      "metadata": {
        "id": "D_VNOLpEowvN"
      },
      "source": [
        "Finalmente, anexamos el número de casos diarios a nuestro data frame original para terminar con 3 columnas: fecha, casos acumulados y casos diarios"
      ]
    },
    {
      "cell_type": "code",
      "metadata": {
        "id": "8_IG2zrkYOE_"
      },
      "source": [
        "mexico_casos['casos_diarios']=np.append(0,np.diff(mexico_casos['Value'],n=1))\n",
        "mexico_casos = mexico_casos.rename(columns = {\"Fecha\":\"fecha\", \"Value\":\"casos_acumulados\"})"
      ],
      "execution_count": null,
      "outputs": []
    },
    {
      "cell_type": "code",
      "metadata": {
        "colab": {
          "base_uri": "https://localhost:8080/",
          "height": 195
        },
        "id": "WlkirU9jYOFA",
        "outputId": "b3cb2104-0fab-4a3e-ab14-81f33e6f7a23"
      },
      "source": [
        "mexico_casos.tail()"
      ],
      "execution_count": null,
      "outputs": [
        {
          "output_type": "execute_result",
          "data": {
            "text/html": [
              "<div>\n",
              "<style scoped>\n",
              "    .dataframe tbody tr th:only-of-type {\n",
              "        vertical-align: middle;\n",
              "    }\n",
              "\n",
              "    .dataframe tbody tr th {\n",
              "        vertical-align: top;\n",
              "    }\n",
              "\n",
              "    .dataframe thead th {\n",
              "        text-align: right;\n",
              "    }\n",
              "</style>\n",
              "<table border=\"1\" class=\"dataframe\">\n",
              "  <thead>\n",
              "    <tr style=\"text-align: right;\">\n",
              "      <th></th>\n",
              "      <th>Date</th>\n",
              "      <th>casos_acumulados</th>\n",
              "      <th>casos_diarios</th>\n",
              "    </tr>\n",
              "  </thead>\n",
              "  <tbody>\n",
              "    <tr>\n",
              "      <th>75065</th>\n",
              "      <td>2021-03-09</td>\n",
              "      <td>2137884</td>\n",
              "      <td>7407</td>\n",
              "    </tr>\n",
              "    <tr>\n",
              "      <th>75064</th>\n",
              "      <td>2021-03-10</td>\n",
              "      <td>2144486</td>\n",
              "      <td>6602</td>\n",
              "    </tr>\n",
              "    <tr>\n",
              "      <th>75063</th>\n",
              "      <td>2021-03-11</td>\n",
              "      <td>2150955</td>\n",
              "      <td>6469</td>\n",
              "    </tr>\n",
              "    <tr>\n",
              "      <th>75062</th>\n",
              "      <td>2021-03-12</td>\n",
              "      <td>2157771</td>\n",
              "      <td>6816</td>\n",
              "    </tr>\n",
              "    <tr>\n",
              "      <th>75061</th>\n",
              "      <td>2021-03-13</td>\n",
              "      <td>2163875</td>\n",
              "      <td>6104</td>\n",
              "    </tr>\n",
              "  </tbody>\n",
              "</table>\n",
              "</div>"
            ],
            "text/plain": [
              "            Date  casos_acumulados  casos_diarios\n",
              "75065 2021-03-09           2137884           7407\n",
              "75064 2021-03-10           2144486           6602\n",
              "75063 2021-03-11           2150955           6469\n",
              "75062 2021-03-12           2157771           6816\n",
              "75061 2021-03-13           2163875           6104"
            ]
          },
          "metadata": {
            "tags": []
          },
          "execution_count": 20
        }
      ]
    },
    {
      "cell_type": "markdown",
      "metadata": {
        "id": "sVs2MMryYOFA"
      },
      "source": [
        "## Muertes por COVID-19"
      ]
    },
    {
      "cell_type": "markdown",
      "metadata": {
        "id": "3QerpKd5YOFA"
      },
      "source": [
        "Dado que este DataFrame esta organizado de la misma manera  que el de casos de COVID-19 (puesto que provienen de la misma organización), los pasos para para limpiar, transformar y visualizar los datos son los mismos.\n",
        "\n",
        "En los siguientes bloques de código se descargan los datos, se realiza un filtro para seleccionar los que corresponden a México, se eliminan las columnas irrelevantes, se renombran las que se conservan y se transforman los datos para que sean del tipo correspondiente."
      ]
    },
    {
      "cell_type": "code",
      "metadata": {
        "id": "NNw3yAJBYOFB"
      },
      "source": [
        "url_2=\"https://data.humdata.org/hxlproxy/data/download/time_series_covid19_deaths_global_narrow.csv?dest=data_edit&filter01=explode&explode-header-att01=date&explode-value-att01=value&filter02=rename&rename-oldtag02=%23affected%2Bdate&rename-newtag02=%23date&rename-header02=Date&filter03=rename&rename-oldtag03=%23affected%2Bvalue&rename-newtag03=%23affected%2Binfected%2Bvalue%2Bnum&rename-header03=Value&filter04=clean&clean-date-tags04=%23date&filter05=sort&sort-tags05=%23date&sort-reverse05=on&filter06=sort&sort-tags06=%23country%2Bname%2C%23adm1%2Bname&tagger-match-all=on&tagger-default-tag=%23affected%2Blabel&tagger-01-header=province%2Fstate&tagger-01-tag=%23adm1%2Bname&tagger-02-header=country%2Fregion&tagger-02-tag=%23country%2Bname&tagger-03-header=lat&tagger-03-tag=%23geo%2Blat&tagger-04-header=long&tagger-04-tag=%23geo%2Blon&header-row=1&url=https%3A%2F%2Fraw.githubusercontent.com%2FCSSEGISandData%2FCOVID-19%2Fmaster%2Fcsse_covid_19_data%2Fcsse_covid_19_time_series%2Ftime_series_covid19_deaths_global.csv\"\n",
        "covid_muertes=pd.read_csv(url_2)"
      ],
      "execution_count": null,
      "outputs": []
    },
    {
      "cell_type": "code",
      "metadata": {
        "colab": {
          "base_uri": "https://localhost:8080/",
          "height": 248
        },
        "id": "diKaUgzfYOFB",
        "outputId": "fe2e31f8-6fc8-4d0e-8837-349e2193e991"
      },
      "source": [
        "mexico_muertes = covid_muertes[covid_muertes['Country/Region']==\"Mexico\"]\n",
        "mexico_muertes = mexico_muertes.drop(columns=['Province/State','Country/Region','Lat','Long'])\n",
        "\n",
        "mexico_muertes['Value']=pd.to_numeric(mexico_muertes['Value'],errors='coerce')\n",
        "mexico_muertes['Date']=pd.to_datetime(mexico_muertes['Date'], errors='coerce')\n",
        "mexico_muertes = mexico_muertes.rename(columns = {\"Date\":\"fecha\", \"Value\":\"muertes_acumuladas\"})\n",
        "print(mexico_muertes.dtypes)\n",
        "mexico_muertes.head()"
      ],
      "execution_count": null,
      "outputs": [
        {
          "output_type": "stream",
          "text": [
            "fecha                 datetime64[ns]\n",
            "muertes_acumuladas             int64\n",
            "dtype: object\n"
          ],
          "name": "stdout"
        },
        {
          "output_type": "execute_result",
          "data": {
            "text/html": [
              "<div>\n",
              "<style scoped>\n",
              "    .dataframe tbody tr th:only-of-type {\n",
              "        vertical-align: middle;\n",
              "    }\n",
              "\n",
              "    .dataframe tbody tr th {\n",
              "        vertical-align: top;\n",
              "    }\n",
              "\n",
              "    .dataframe thead th {\n",
              "        text-align: right;\n",
              "    }\n",
              "</style>\n",
              "<table border=\"1\" class=\"dataframe\">\n",
              "  <thead>\n",
              "    <tr style=\"text-align: right;\">\n",
              "      <th></th>\n",
              "      <th>fecha</th>\n",
              "      <th>muertes_acumuladas</th>\n",
              "    </tr>\n",
              "  </thead>\n",
              "  <tbody>\n",
              "    <tr>\n",
              "      <th>75061</th>\n",
              "      <td>2021-03-13</td>\n",
              "      <td>194490</td>\n",
              "    </tr>\n",
              "    <tr>\n",
              "      <th>75062</th>\n",
              "      <td>2021-03-12</td>\n",
              "      <td>193851</td>\n",
              "    </tr>\n",
              "    <tr>\n",
              "      <th>75063</th>\n",
              "      <td>2021-03-11</td>\n",
              "      <td>193152</td>\n",
              "    </tr>\n",
              "    <tr>\n",
              "      <th>75064</th>\n",
              "      <td>2021-03-10</td>\n",
              "      <td>192491</td>\n",
              "    </tr>\n",
              "    <tr>\n",
              "      <th>75065</th>\n",
              "      <td>2021-03-09</td>\n",
              "      <td>191789</td>\n",
              "    </tr>\n",
              "  </tbody>\n",
              "</table>\n",
              "</div>"
            ],
            "text/plain": [
              "           fecha  muertes_acumuladas\n",
              "75061 2021-03-13              194490\n",
              "75062 2021-03-12              193851\n",
              "75063 2021-03-11              193152\n",
              "75064 2021-03-10              192491\n",
              "75065 2021-03-09              191789"
            ]
          },
          "metadata": {
            "tags": []
          },
          "execution_count": 22
        }
      ]
    },
    {
      "cell_type": "markdown",
      "metadata": {
        "id": "D3VrZl-Xs2S_"
      },
      "source": [
        "Como se puede observar, la transformación de los datos se realizó correctamente y las columnas que tenemos son las informativas para nuestro problema. \n",
        "\n",
        "Después de esto, graficamos los datos para observar su comportamiento."
      ]
    },
    {
      "cell_type": "code",
      "metadata": {
        "colab": {
          "base_uri": "https://localhost:8080/",
          "height": 282
        },
        "id": "ANeevyi1YOFC",
        "outputId": "8762573e-edca-47bc-d24a-c18fcbb35b2f"
      },
      "source": [
        "plt.plot(mexico_muertes['fecha'],mexico_muertes['muertes_acumuladas'])"
      ],
      "execution_count": null,
      "outputs": [
        {
          "output_type": "execute_result",
          "data": {
            "text/plain": [
              "[<matplotlib.lines.Line2D at 0x7fbc334086d0>]"
            ]
          },
          "metadata": {
            "tags": []
          },
          "execution_count": 23
        },
        {
          "output_type": "display_data",
          "data": {
            "image/png": "[encoded data removed]",
            "text/plain": [
              "<Figure size 432x288 with 1 Axes>"
            ]
          },
          "metadata": {
            "tags": [],
            "needs_background": "light"
          }
        }
      ]
    },
    {
      "cell_type": "markdown",
      "metadata": {
        "id": "QJDA2PqptY2K"
      },
      "source": [
        "Finalmente, de manera similar al inciso anterior, se calculan las muertes diarias y se anexan como una columna nueva al dataframe de muertes por covid en México. "
      ]
    },
    {
      "cell_type": "code",
      "metadata": {
        "id": "qKp2LumQYOFC"
      },
      "source": [
        "mexico_muertes=mexico_muertes.sort_values(by='fecha',axis=0, ascending=True)"
      ],
      "execution_count": null,
      "outputs": []
    },
    {
      "cell_type": "code",
      "metadata": {
        "id": "pRW6vrXWYOFD"
      },
      "source": [
        "mexico_muertes['muertes_diarias']=np.append(0,np.diff(mexico_muertes['muertes_acumuladas'],n=1))"
      ],
      "execution_count": null,
      "outputs": []
    },
    {
      "cell_type": "code",
      "metadata": {
        "colab": {
          "base_uri": "https://localhost:8080/",
          "height": 282
        },
        "id": "sH_Ubi2GYOFD",
        "outputId": "ee74e2fe-c850-4e54-910b-302c42ce8cc7"
      },
      "source": [
        "plt.plot(mexico_muertes[\"fecha\"],mexico_muertes[\"muertes_diarias\"])"
      ],
      "execution_count": null,
      "outputs": [
        {
          "output_type": "execute_result",
          "data": {
            "text/plain": [
              "[<matplotlib.lines.Line2D at 0x7fbc33371890>]"
            ]
          },
          "metadata": {
            "tags": []
          },
          "execution_count": 26
        },
        {
          "output_type": "display_data",
          "data": {
            "image/png": "[encoded data removed]",
            "text/plain": [
              "<Figure size 432x288 with 1 Axes>"
            ]
          },
          "metadata": {
            "tags": [],
            "needs_background": "light"
          }
        }
      ]
    },
    {
      "cell_type": "code",
      "metadata": {
        "colab": {
          "base_uri": "https://localhost:8080/",
          "height": 195
        },
        "id": "fdOBZIx0uwZ_",
        "outputId": "f2a66791-ae34-4f84-be8e-06942840acfc"
      },
      "source": [
        "mexico_muertes.tail()"
      ],
      "execution_count": null,
      "outputs": [
        {
          "output_type": "execute_result",
          "data": {
            "text/html": [
              "<div>\n",
              "<style scoped>\n",
              "    .dataframe tbody tr th:only-of-type {\n",
              "        vertical-align: middle;\n",
              "    }\n",
              "\n",
              "    .dataframe tbody tr th {\n",
              "        vertical-align: top;\n",
              "    }\n",
              "\n",
              "    .dataframe thead th {\n",
              "        text-align: right;\n",
              "    }\n",
              "</style>\n",
              "<table border=\"1\" class=\"dataframe\">\n",
              "  <thead>\n",
              "    <tr style=\"text-align: right;\">\n",
              "      <th></th>\n",
              "      <th>fecha</th>\n",
              "      <th>muertes_acumuladas</th>\n",
              "      <th>muertes_diarias</th>\n",
              "    </tr>\n",
              "  </thead>\n",
              "  <tbody>\n",
              "    <tr>\n",
              "      <th>75065</th>\n",
              "      <td>2021-03-09</td>\n",
              "      <td>191789</td>\n",
              "      <td>866</td>\n",
              "    </tr>\n",
              "    <tr>\n",
              "      <th>75064</th>\n",
              "      <td>2021-03-10</td>\n",
              "      <td>192491</td>\n",
              "      <td>702</td>\n",
              "    </tr>\n",
              "    <tr>\n",
              "      <th>75063</th>\n",
              "      <td>2021-03-11</td>\n",
              "      <td>193152</td>\n",
              "      <td>661</td>\n",
              "    </tr>\n",
              "    <tr>\n",
              "      <th>75062</th>\n",
              "      <td>2021-03-12</td>\n",
              "      <td>193851</td>\n",
              "      <td>699</td>\n",
              "    </tr>\n",
              "    <tr>\n",
              "      <th>75061</th>\n",
              "      <td>2021-03-13</td>\n",
              "      <td>194490</td>\n",
              "      <td>639</td>\n",
              "    </tr>\n",
              "  </tbody>\n",
              "</table>\n",
              "</div>"
            ],
            "text/plain": [
              "           fecha  muertes_acumuladas  muertes_diarias\n",
              "75065 2021-03-09              191789              866\n",
              "75064 2021-03-10              192491              702\n",
              "75063 2021-03-11              193152              661\n",
              "75062 2021-03-12              193851              699\n",
              "75061 2021-03-13              194490              639"
            ]
          },
          "metadata": {
            "tags": []
          },
          "execution_count": 27
        }
      ]
    },
    {
      "cell_type": "markdown",
      "metadata": {
        "id": "ww16UH0Vu0rS"
      },
      "source": [
        "Como se puede observar, el data frame final posee información de las muertes diarias y acumuladas debido al COVID-19 por fecha en México, como se deseaba."
      ]
    },
    {
      "cell_type": "markdown",
      "metadata": {
        "id": "fRMFChO9YOFE"
      },
      "source": [
        "## Vacunas contra COVID-19\n",
        "\n",
        "Posteriormente, analizamos la base de datos de número de personas vacunadas contra el COVID-19 por país. Dado que esta base de datos pertenece a una organización diferente, iniciamos explorando sus columnas para seleccionar los datos relevantes. "
      ]
    },
    {
      "cell_type": "code",
      "metadata": {
        "id": "sRyO__7YYOFE"
      },
      "source": [
        "url_3=\"https://proxy.hxlstandard.org/data.csv?tagger-match-all=on&tagger-01-header=location&tagger-01-tag=%23country%2Bname&tagger-02-header=iso_code&tagger-02-tag=%23country%2Bcode&tagger-03-header=date&tagger-03-tag=%23date&tagger-04-header=total_vaccinations&tagger-04-tag=%23total%2Bvaccinations&tagger-08-header=daily_vaccinations&tagger-08-tag=%23total%2Bvaccinations%2Bdaily&url=https%3A%2F%2Fraw.githubusercontent.com%2Fowid%2Fcovid-19-data%2Fmaster%2Fpublic%2Fdata%2Fvaccinations%2Fvaccinations.csv&header-row=1&dest=data_view\"\n",
        "vacunas_covid=pd.read_csv(url_3)"
      ],
      "execution_count": null,
      "outputs": []
    },
    {
      "cell_type": "code",
      "metadata": {
        "colab": {
          "base_uri": "https://localhost:8080/",
          "height": 282
        },
        "id": "94u5kl_5YOFE",
        "outputId": "b51e3ee5-1d03-469c-8bcf-2b88176e05b6"
      },
      "source": [
        "vacunas_covid.head()"
      ],
      "execution_count": null,
      "outputs": [
        {
          "output_type": "execute_result",
          "data": {
            "text/html": [
              "<div>\n",
              "<style scoped>\n",
              "    .dataframe tbody tr th:only-of-type {\n",
              "        vertical-align: middle;\n",
              "    }\n",
              "\n",
              "    .dataframe tbody tr th {\n",
              "        vertical-align: top;\n",
              "    }\n",
              "\n",
              "    .dataframe thead th {\n",
              "        text-align: right;\n",
              "    }\n",
              "</style>\n",
              "<table border=\"1\" class=\"dataframe\">\n",
              "  <thead>\n",
              "    <tr style=\"text-align: right;\">\n",
              "      <th></th>\n",
              "      <th>location</th>\n",
              "      <th>iso_code</th>\n",
              "      <th>date</th>\n",
              "      <th>total_vaccinations</th>\n",
              "      <th>people_vaccinated</th>\n",
              "      <th>people_fully_vaccinated</th>\n",
              "      <th>daily_vaccinations_raw</th>\n",
              "      <th>daily_vaccinations</th>\n",
              "      <th>total_vaccinations_per_hundred</th>\n",
              "      <th>people_vaccinated_per_hundred</th>\n",
              "      <th>people_fully_vaccinated_per_hundred</th>\n",
              "      <th>daily_vaccinations_per_million</th>\n",
              "    </tr>\n",
              "  </thead>\n",
              "  <tbody>\n",
              "    <tr>\n",
              "      <th>0</th>\n",
              "      <td>#country+name</td>\n",
              "      <td>#country+code</td>\n",
              "      <td>#date</td>\n",
              "      <td>#total+vaccinations</td>\n",
              "      <td>NaN</td>\n",
              "      <td>NaN</td>\n",
              "      <td>NaN</td>\n",
              "      <td>#total+vaccinations+daily</td>\n",
              "      <td>NaN</td>\n",
              "      <td>NaN</td>\n",
              "      <td>NaN</td>\n",
              "      <td>NaN</td>\n",
              "    </tr>\n",
              "    <tr>\n",
              "      <th>1</th>\n",
              "      <td>Albania</td>\n",
              "      <td>ALB</td>\n",
              "      <td>2021-01-10</td>\n",
              "      <td>0</td>\n",
              "      <td>0.0</td>\n",
              "      <td>NaN</td>\n",
              "      <td>NaN</td>\n",
              "      <td>NaN</td>\n",
              "      <td>0.00</td>\n",
              "      <td>0.00</td>\n",
              "      <td>NaN</td>\n",
              "      <td>NaN</td>\n",
              "    </tr>\n",
              "    <tr>\n",
              "      <th>2</th>\n",
              "      <td>Albania</td>\n",
              "      <td>ALB</td>\n",
              "      <td>2021-01-11</td>\n",
              "      <td>NaN</td>\n",
              "      <td>NaN</td>\n",
              "      <td>NaN</td>\n",
              "      <td>NaN</td>\n",
              "      <td>64</td>\n",
              "      <td>NaN</td>\n",
              "      <td>NaN</td>\n",
              "      <td>NaN</td>\n",
              "      <td>22.0</td>\n",
              "    </tr>\n",
              "    <tr>\n",
              "      <th>3</th>\n",
              "      <td>Albania</td>\n",
              "      <td>ALB</td>\n",
              "      <td>2021-01-12</td>\n",
              "      <td>128</td>\n",
              "      <td>128.0</td>\n",
              "      <td>NaN</td>\n",
              "      <td>NaN</td>\n",
              "      <td>64</td>\n",
              "      <td>0.00</td>\n",
              "      <td>0.00</td>\n",
              "      <td>NaN</td>\n",
              "      <td>22.0</td>\n",
              "    </tr>\n",
              "    <tr>\n",
              "      <th>4</th>\n",
              "      <td>Albania</td>\n",
              "      <td>ALB</td>\n",
              "      <td>2021-01-13</td>\n",
              "      <td>188</td>\n",
              "      <td>188.0</td>\n",
              "      <td>NaN</td>\n",
              "      <td>60.0</td>\n",
              "      <td>63</td>\n",
              "      <td>0.01</td>\n",
              "      <td>0.01</td>\n",
              "      <td>NaN</td>\n",
              "      <td>22.0</td>\n",
              "    </tr>\n",
              "  </tbody>\n",
              "</table>\n",
              "</div>"
            ],
            "text/plain": [
              "        location  ... daily_vaccinations_per_million\n",
              "0  #country+name  ...                            NaN\n",
              "1        Albania  ...                            NaN\n",
              "2        Albania  ...                           22.0\n",
              "3        Albania  ...                           22.0\n",
              "4        Albania  ...                           22.0\n",
              "\n",
              "[5 rows x 12 columns]"
            ]
          },
          "metadata": {
            "tags": []
          },
          "execution_count": 29
        }
      ]
    },
    {
      "cell_type": "markdown",
      "metadata": {
        "id": "1GZ44CMSYOFF"
      },
      "source": [
        "Después de explorar los datos, decidimos hacer un subset para quedarnos únicamente con la información de México y 3 columnas, las cuales corresponden a la fecha, al número de personas totalmente vacunadas y las percialmente vacunadas.  "
      ]
    },
    {
      "cell_type": "code",
      "metadata": {
        "id": "CEfgqN2mYOFF"
      },
      "source": [
        "mexico_vac=vacunas_covid[vacunas_covid['location']==\"Mexico\"]\n",
        "mexico_vac=pd.DataFrame({'fecha':mexico_vac[\"date\"],'totalmente_vacunados':mexico_vac[\"people_fully_vaccinated\"],'parcialmente_vacunados':mexico_vac['total_vaccinations']})"
      ],
      "execution_count": null,
      "outputs": []
    },
    {
      "cell_type": "code",
      "metadata": {
        "colab": {
          "base_uri": "https://localhost:8080/",
          "height": 195
        },
        "id": "YnBQ8h-1YOFF",
        "outputId": "fd7530a6-406e-41d6-9f72-0ee6f1527034"
      },
      "source": [
        "mexico_vac.tail()"
      ],
      "execution_count": null,
      "outputs": [
        {
          "output_type": "execute_result",
          "data": {
            "text/html": [
              "<div>\n",
              "<style scoped>\n",
              "    .dataframe tbody tr th:only-of-type {\n",
              "        vertical-align: middle;\n",
              "    }\n",
              "\n",
              "    .dataframe tbody tr th {\n",
              "        vertical-align: top;\n",
              "    }\n",
              "\n",
              "    .dataframe thead th {\n",
              "        text-align: right;\n",
              "    }\n",
              "</style>\n",
              "<table border=\"1\" class=\"dataframe\">\n",
              "  <thead>\n",
              "    <tr style=\"text-align: right;\">\n",
              "      <th></th>\n",
              "      <th>fecha</th>\n",
              "      <th>totalmente_vacunados</th>\n",
              "      <th>parcialmente_vacunados</th>\n",
              "    </tr>\n",
              "  </thead>\n",
              "  <tbody>\n",
              "    <tr>\n",
              "      <th>3896</th>\n",
              "      <td>2021-03-09</td>\n",
              "      <td>605801.0</td>\n",
              "      <td>3100868</td>\n",
              "    </tr>\n",
              "    <tr>\n",
              "      <th>3897</th>\n",
              "      <td>2021-03-10</td>\n",
              "      <td>606000.0</td>\n",
              "      <td>3488000</td>\n",
              "    </tr>\n",
              "    <tr>\n",
              "      <th>3898</th>\n",
              "      <td>2021-03-11</td>\n",
              "      <td>NaN</td>\n",
              "      <td>3800000</td>\n",
              "    </tr>\n",
              "    <tr>\n",
              "      <th>3899</th>\n",
              "      <td>2021-03-12</td>\n",
              "      <td>609460.0</td>\n",
              "      <td>4005131</td>\n",
              "    </tr>\n",
              "    <tr>\n",
              "      <th>3900</th>\n",
              "      <td>2021-03-13</td>\n",
              "      <td>609874.0</td>\n",
              "      <td>4214294</td>\n",
              "    </tr>\n",
              "  </tbody>\n",
              "</table>\n",
              "</div>"
            ],
            "text/plain": [
              "           fecha  totalmente_vacunados parcialmente_vacunados\n",
              "3896  2021-03-09              605801.0                3100868\n",
              "3897  2021-03-10              606000.0                3488000\n",
              "3898  2021-03-11                   NaN                3800000\n",
              "3899  2021-03-12              609460.0                4005131\n",
              "3900  2021-03-13              609874.0                4214294"
            ]
          },
          "metadata": {
            "tags": []
          },
          "execution_count": 31
        }
      ]
    },
    {
      "cell_type": "markdown",
      "metadata": {
        "id": "hLPEHyVkYOFG"
      },
      "source": [
        "Se puede observar que el data frame posee las columnas que queríamos de forma correcta. Además, se ve que aparecen algunos valores como NaN, lo cual probablemente corresponde a días en los que no hubo vacunación o no hay registro de ello. Decidimos  no remover las filas que tuvieran algún NaN para no perder información de la columna vecina. \n",
        "\n",
        "Posteriormente, evaluamos el tipo de datos para ver que correspondiera con lo que se espera de su columna. "
      ]
    },
    {
      "cell_type": "code",
      "metadata": {
        "colab": {
          "base_uri": "https://localhost:8080/"
        },
        "id": "atxXq8pMYOFG",
        "outputId": "b52d29b7-0745-450e-efe1-d2812ffd3768"
      },
      "source": [
        "mexico_vac.dtypes"
      ],
      "execution_count": null,
      "outputs": [
        {
          "output_type": "execute_result",
          "data": {
            "text/plain": [
              "fecha                      object\n",
              "totalmente_vacunados      float64\n",
              "parcialmente_vacunados     object\n",
              "dtype: object"
            ]
          },
          "metadata": {
            "tags": []
          },
          "execution_count": 32
        }
      ]
    },
    {
      "cell_type": "markdown",
      "metadata": {
        "id": "PJDbcu10YOFG"
      },
      "source": [
        "Después de esto, hicimos la transformación del tipo de datos y una visualización rápida del número total de vacunas aplicadas, así como las personas que han recibido la dósis completa (usualmente dos, lo cual depende del tipo de vacuna)."
      ]
    },
    {
      "cell_type": "code",
      "metadata": {
        "colab": {
          "base_uri": "https://localhost:8080/"
        },
        "id": "aLEVxXJJYOFH",
        "outputId": "60350665-c9e8-430c-c555-6a23945710e6"
      },
      "source": [
        "mexico_vac['parcialmente_vacunados']=pd.to_numeric(mexico_vac['parcialmente_vacunados'],errors='coerce')\n",
        "mexico_vac['fecha']=pd.to_datetime(mexico_vac['fecha'], errors='coerce')\n",
        "mexico_vac.dtypes"
      ],
      "execution_count": null,
      "outputs": [
        {
          "output_type": "execute_result",
          "data": {
            "text/plain": [
              "fecha                     datetime64[ns]\n",
              "totalmente_vacunados             float64\n",
              "parcialmente_vacunados           float64\n",
              "dtype: object"
            ]
          },
          "metadata": {
            "tags": []
          },
          "execution_count": 33
        }
      ]
    },
    {
      "cell_type": "code",
      "metadata": {
        "colab": {
          "base_uri": "https://localhost:8080/",
          "height": 311
        },
        "id": "ZQrzBsF2YOFH",
        "outputId": "d4ca6f3f-9e7a-4df3-da33-35ce0b290dee"
      },
      "source": [
        "plt.plot(mexico_vac['fecha'],mexico_vac['totalmente_vacunados'],mexico_vac['fecha'],mexico_vac['parcialmente_vacunados'])"
      ],
      "execution_count": null,
      "outputs": [
        {
          "output_type": "execute_result",
          "data": {
            "text/plain": [
              "[<matplotlib.lines.Line2D at 0x7fbc33d52c10>,\n",
              " <matplotlib.lines.Line2D at 0x7fbc3321ef10>]"
            ]
          },
          "metadata": {
            "tags": []
          },
          "execution_count": 34
        },
        {
          "output_type": "display_data",
          "data": {
            "image/png": "[encoded data removed]",
            "text/plain": [
              "<Figure size 432x288 with 1 Axes>"
            ]
          },
          "metadata": {
            "tags": [],
            "needs_background": "light"
          }
        }
      ]
    },
    {
      "cell_type": "markdown",
      "metadata": {
        "id": "U-yv_LNhYOFI"
      },
      "source": [
        "## Movilidad\n",
        "Por último, descargamos, transformamos y limpiamos la base de datos de movilidad para obtener la información relevante de México. "
      ]
    },
    {
      "cell_type": "code",
      "metadata": {
        "colab": {
          "base_uri": "https://localhost:8080/",
          "height": 334
        },
        "id": "BmM625n7YOFI",
        "outputId": "312f6e3f-8d16-404f-b619-4a631f76497a"
      },
      "source": [
        "url_4=\"https://www.gstatic.com/covid19/mobility/Global_Mobility_Report.csv\"\n",
        "movilidad=pd.read_csv(url_4)\n",
        "movilidad.head()"
      ],
      "execution_count": null,
      "outputs": [
        {
          "output_type": "stream",
          "text": [
            "/usr/local/lib/python3.7/dist-packages/IPython/core/interactiveshell.py:2718: DtypeWarning: Columns (4,5) have mixed types.Specify dtype option on import or set low_memory=False.\n",
            "  interactivity=interactivity, compiler=compiler, result=result)\n"
          ],
          "name": "stderr"
        },
        {
          "output_type": "execute_result",
          "data": {
            "text/html": [
              "<div>\n",
              "<style scoped>\n",
              "    .dataframe tbody tr th:only-of-type {\n",
              "        vertical-align: middle;\n",
              "    }\n",
              "\n",
              "    .dataframe tbody tr th {\n",
              "        vertical-align: top;\n",
              "    }\n",
              "\n",
              "    .dataframe thead th {\n",
              "        text-align: right;\n",
              "    }\n",
              "</style>\n",
              "<table border=\"1\" class=\"dataframe\">\n",
              "  <thead>\n",
              "    <tr style=\"text-align: right;\">\n",
              "      <th></th>\n",
              "      <th>country_region_code</th>\n",
              "      <th>country_region</th>\n",
              "      <th>sub_region_1</th>\n",
              "      <th>sub_region_2</th>\n",
              "      <th>metro_area</th>\n",
              "      <th>iso_3166_2_code</th>\n",
              "      <th>census_fips_code</th>\n",
              "      <th>place_id</th>\n",
              "      <th>date</th>\n",
              "      <th>retail_and_recreation_percent_change_from_baseline</th>\n",
              "      <th>grocery_and_pharmacy_percent_change_from_baseline</th>\n",
              "      <th>parks_percent_change_from_baseline</th>\n",
              "      <th>transit_stations_percent_change_from_baseline</th>\n",
              "      <th>workplaces_percent_change_from_baseline</th>\n",
              "      <th>residential_percent_change_from_baseline</th>\n",
              "    </tr>\n",
              "  </thead>\n",
              "  <tbody>\n",
              "    <tr>\n",
              "      <th>0</th>\n",
              "      <td>AE</td>\n",
              "      <td>United Arab Emirates</td>\n",
              "      <td>NaN</td>\n",
              "      <td>NaN</td>\n",
              "      <td>NaN</td>\n",
              "      <td>NaN</td>\n",
              "      <td>NaN</td>\n",
              "      <td>ChIJvRKrsd9IXj4RpwoIwFYv0zM</td>\n",
              "      <td>2020-02-15</td>\n",
              "      <td>0.0</td>\n",
              "      <td>4.0</td>\n",
              "      <td>5.0</td>\n",
              "      <td>0.0</td>\n",
              "      <td>2.0</td>\n",
              "      <td>1.0</td>\n",
              "    </tr>\n",
              "    <tr>\n",
              "      <th>1</th>\n",
              "      <td>AE</td>\n",
              "      <td>United Arab Emirates</td>\n",
              "      <td>NaN</td>\n",
              "      <td>NaN</td>\n",
              "      <td>NaN</td>\n",
              "      <td>NaN</td>\n",
              "      <td>NaN</td>\n",
              "      <td>ChIJvRKrsd9IXj4RpwoIwFYv0zM</td>\n",
              "      <td>2020-02-16</td>\n",
              "      <td>1.0</td>\n",
              "      <td>4.0</td>\n",
              "      <td>4.0</td>\n",
              "      <td>1.0</td>\n",
              "      <td>2.0</td>\n",
              "      <td>1.0</td>\n",
              "    </tr>\n",
              "    <tr>\n",
              "      <th>2</th>\n",
              "      <td>AE</td>\n",
              "      <td>United Arab Emirates</td>\n",
              "      <td>NaN</td>\n",
              "      <td>NaN</td>\n",
              "      <td>NaN</td>\n",
              "      <td>NaN</td>\n",
              "      <td>NaN</td>\n",
              "      <td>ChIJvRKrsd9IXj4RpwoIwFYv0zM</td>\n",
              "      <td>2020-02-17</td>\n",
              "      <td>-1.0</td>\n",
              "      <td>1.0</td>\n",
              "      <td>5.0</td>\n",
              "      <td>1.0</td>\n",
              "      <td>2.0</td>\n",
              "      <td>1.0</td>\n",
              "    </tr>\n",
              "    <tr>\n",
              "      <th>3</th>\n",
              "      <td>AE</td>\n",
              "      <td>United Arab Emirates</td>\n",
              "      <td>NaN</td>\n",
              "      <td>NaN</td>\n",
              "      <td>NaN</td>\n",
              "      <td>NaN</td>\n",
              "      <td>NaN</td>\n",
              "      <td>ChIJvRKrsd9IXj4RpwoIwFYv0zM</td>\n",
              "      <td>2020-02-18</td>\n",
              "      <td>-2.0</td>\n",
              "      <td>1.0</td>\n",
              "      <td>5.0</td>\n",
              "      <td>0.0</td>\n",
              "      <td>2.0</td>\n",
              "      <td>1.0</td>\n",
              "    </tr>\n",
              "    <tr>\n",
              "      <th>4</th>\n",
              "      <td>AE</td>\n",
              "      <td>United Arab Emirates</td>\n",
              "      <td>NaN</td>\n",
              "      <td>NaN</td>\n",
              "      <td>NaN</td>\n",
              "      <td>NaN</td>\n",
              "      <td>NaN</td>\n",
              "      <td>ChIJvRKrsd9IXj4RpwoIwFYv0zM</td>\n",
              "      <td>2020-02-19</td>\n",
              "      <td>-2.0</td>\n",
              "      <td>0.0</td>\n",
              "      <td>4.0</td>\n",
              "      <td>-1.0</td>\n",
              "      <td>2.0</td>\n",
              "      <td>1.0</td>\n",
              "    </tr>\n",
              "  </tbody>\n",
              "</table>\n",
              "</div>"
            ],
            "text/plain": [
              "  country_region_code  ... residential_percent_change_from_baseline\n",
              "0                  AE  ...                                      1.0\n",
              "1                  AE  ...                                      1.0\n",
              "2                  AE  ...                                      1.0\n",
              "3                  AE  ...                                      1.0\n",
              "4                  AE  ...                                      1.0\n",
              "\n",
              "[5 rows x 15 columns]"
            ]
          },
          "metadata": {
            "tags": []
          },
          "execution_count": 35
        }
      ]
    },
    {
      "cell_type": "markdown",
      "metadata": {
        "id": "c81XkjPEYOFJ"
      },
      "source": [
        "El primer paso que realizamos fue hacer un subset en las filas para quedarnos con los datos de México. "
      ]
    },
    {
      "cell_type": "code",
      "metadata": {
        "id": "aibBDkIKYOFJ"
      },
      "source": [
        "mexmo=movilidad[movilidad['country_region']=='Mexico']"
      ],
      "execution_count": null,
      "outputs": []
    },
    {
      "cell_type": "code",
      "metadata": {
        "colab": {
          "base_uri": "https://localhost:8080/",
          "height": 299
        },
        "id": "n3wBYZ8mYOFJ",
        "outputId": "f54ace7d-6ddb-4f08-e52e-e7bfb61adf36"
      },
      "source": [
        "mexmo.head()"
      ],
      "execution_count": null,
      "outputs": [
        {
          "output_type": "execute_result",
          "data": {
            "text/html": [
              "<div>\n",
              "<style scoped>\n",
              "    .dataframe tbody tr th:only-of-type {\n",
              "        vertical-align: middle;\n",
              "    }\n",
              "\n",
              "    .dataframe tbody tr th {\n",
              "        vertical-align: top;\n",
              "    }\n",
              "\n",
              "    .dataframe thead th {\n",
              "        text-align: right;\n",
              "    }\n",
              "</style>\n",
              "<table border=\"1\" class=\"dataframe\">\n",
              "  <thead>\n",
              "    <tr style=\"text-align: right;\">\n",
              "      <th></th>\n",
              "      <th>country_region_code</th>\n",
              "      <th>country_region</th>\n",
              "      <th>sub_region_1</th>\n",
              "      <th>sub_region_2</th>\n",
              "      <th>metro_area</th>\n",
              "      <th>iso_3166_2_code</th>\n",
              "      <th>census_fips_code</th>\n",
              "      <th>place_id</th>\n",
              "      <th>date</th>\n",
              "      <th>retail_and_recreation_percent_change_from_baseline</th>\n",
              "      <th>grocery_and_pharmacy_percent_change_from_baseline</th>\n",
              "      <th>parks_percent_change_from_baseline</th>\n",
              "      <th>transit_stations_percent_change_from_baseline</th>\n",
              "      <th>workplaces_percent_change_from_baseline</th>\n",
              "      <th>residential_percent_change_from_baseline</th>\n",
              "    </tr>\n",
              "  </thead>\n",
              "  <tbody>\n",
              "    <tr>\n",
              "      <th>2371909</th>\n",
              "      <td>MX</td>\n",
              "      <td>Mexico</td>\n",
              "      <td>NaN</td>\n",
              "      <td>NaN</td>\n",
              "      <td>NaN</td>\n",
              "      <td>NaN</td>\n",
              "      <td>NaN</td>\n",
              "      <td>ChIJU1NoiDs6BIQREZgJa760ZO0</td>\n",
              "      <td>2020-02-15</td>\n",
              "      <td>6.0</td>\n",
              "      <td>4.0</td>\n",
              "      <td>6.0</td>\n",
              "      <td>4.0</td>\n",
              "      <td>3.0</td>\n",
              "      <td>-1.0</td>\n",
              "    </tr>\n",
              "    <tr>\n",
              "      <th>2371910</th>\n",
              "      <td>MX</td>\n",
              "      <td>Mexico</td>\n",
              "      <td>NaN</td>\n",
              "      <td>NaN</td>\n",
              "      <td>NaN</td>\n",
              "      <td>NaN</td>\n",
              "      <td>NaN</td>\n",
              "      <td>ChIJU1NoiDs6BIQREZgJa760ZO0</td>\n",
              "      <td>2020-02-16</td>\n",
              "      <td>7.0</td>\n",
              "      <td>6.0</td>\n",
              "      <td>7.0</td>\n",
              "      <td>6.0</td>\n",
              "      <td>2.0</td>\n",
              "      <td>-1.0</td>\n",
              "    </tr>\n",
              "    <tr>\n",
              "      <th>2371911</th>\n",
              "      <td>MX</td>\n",
              "      <td>Mexico</td>\n",
              "      <td>NaN</td>\n",
              "      <td>NaN</td>\n",
              "      <td>NaN</td>\n",
              "      <td>NaN</td>\n",
              "      <td>NaN</td>\n",
              "      <td>ChIJU1NoiDs6BIQREZgJa760ZO0</td>\n",
              "      <td>2020-02-17</td>\n",
              "      <td>2.0</td>\n",
              "      <td>4.0</td>\n",
              "      <td>3.0</td>\n",
              "      <td>5.0</td>\n",
              "      <td>11.0</td>\n",
              "      <td>-2.0</td>\n",
              "    </tr>\n",
              "    <tr>\n",
              "      <th>2371912</th>\n",
              "      <td>MX</td>\n",
              "      <td>Mexico</td>\n",
              "      <td>NaN</td>\n",
              "      <td>NaN</td>\n",
              "      <td>NaN</td>\n",
              "      <td>NaN</td>\n",
              "      <td>NaN</td>\n",
              "      <td>ChIJU1NoiDs6BIQREZgJa760ZO0</td>\n",
              "      <td>2020-02-18</td>\n",
              "      <td>0.0</td>\n",
              "      <td>-1.0</td>\n",
              "      <td>3.0</td>\n",
              "      <td>2.0</td>\n",
              "      <td>9.0</td>\n",
              "      <td>-2.0</td>\n",
              "    </tr>\n",
              "    <tr>\n",
              "      <th>2371913</th>\n",
              "      <td>MX</td>\n",
              "      <td>Mexico</td>\n",
              "      <td>NaN</td>\n",
              "      <td>NaN</td>\n",
              "      <td>NaN</td>\n",
              "      <td>NaN</td>\n",
              "      <td>NaN</td>\n",
              "      <td>ChIJU1NoiDs6BIQREZgJa760ZO0</td>\n",
              "      <td>2020-02-19</td>\n",
              "      <td>0.0</td>\n",
              "      <td>0.0</td>\n",
              "      <td>2.0</td>\n",
              "      <td>3.0</td>\n",
              "      <td>8.0</td>\n",
              "      <td>-1.0</td>\n",
              "    </tr>\n",
              "  </tbody>\n",
              "</table>\n",
              "</div>"
            ],
            "text/plain": [
              "        country_region_code  ... residential_percent_change_from_baseline\n",
              "2371909                  MX  ...                                     -1.0\n",
              "2371910                  MX  ...                                     -1.0\n",
              "2371911                  MX  ...                                     -2.0\n",
              "2371912                  MX  ...                                     -2.0\n",
              "2371913                  MX  ...                                     -1.0\n",
              "\n",
              "[5 rows x 15 columns]"
            ]
          },
          "metadata": {
            "tags": []
          },
          "execution_count": 37
        }
      ]
    },
    {
      "cell_type": "markdown",
      "metadata": {
        "id": "6MkdEjvrYOFJ"
      },
      "source": [
        "Posteriormente, eliminamos las columnas que no son necesarias para el análisis o que tienen datos sin información."
      ]
    },
    {
      "cell_type": "code",
      "metadata": {
        "id": "_Mfbz1OBYOFJ"
      },
      "source": [
        "mexmo=mexmo.drop(columns=['country_region_code','country_region','sub_region_1','sub_region_2','metro_area','iso_3166_2_code','census_fips_code','place_id'])"
      ],
      "execution_count": null,
      "outputs": []
    },
    {
      "cell_type": "code",
      "metadata": {
        "colab": {
          "base_uri": "https://localhost:8080/",
          "height": 299
        },
        "id": "TQ9KKa2oYOFK",
        "outputId": "c3f04df8-0ce0-41cc-88cd-a397b7fe412d"
      },
      "source": [
        "mexmo.head()"
      ],
      "execution_count": null,
      "outputs": [
        {
          "output_type": "execute_result",
          "data": {
            "text/html": [
              "<div>\n",
              "<style scoped>\n",
              "    .dataframe tbody tr th:only-of-type {\n",
              "        vertical-align: middle;\n",
              "    }\n",
              "\n",
              "    .dataframe tbody tr th {\n",
              "        vertical-align: top;\n",
              "    }\n",
              "\n",
              "    .dataframe thead th {\n",
              "        text-align: right;\n",
              "    }\n",
              "</style>\n",
              "<table border=\"1\" class=\"dataframe\">\n",
              "  <thead>\n",
              "    <tr style=\"text-align: right;\">\n",
              "      <th></th>\n",
              "      <th>date</th>\n",
              "      <th>retail_and_recreation_percent_change_from_baseline</th>\n",
              "      <th>grocery_and_pharmacy_percent_change_from_baseline</th>\n",
              "      <th>parks_percent_change_from_baseline</th>\n",
              "      <th>transit_stations_percent_change_from_baseline</th>\n",
              "      <th>workplaces_percent_change_from_baseline</th>\n",
              "      <th>residential_percent_change_from_baseline</th>\n",
              "    </tr>\n",
              "  </thead>\n",
              "  <tbody>\n",
              "    <tr>\n",
              "      <th>2371909</th>\n",
              "      <td>2020-02-15</td>\n",
              "      <td>6.0</td>\n",
              "      <td>4.0</td>\n",
              "      <td>6.0</td>\n",
              "      <td>4.0</td>\n",
              "      <td>3.0</td>\n",
              "      <td>-1.0</td>\n",
              "    </tr>\n",
              "    <tr>\n",
              "      <th>2371910</th>\n",
              "      <td>2020-02-16</td>\n",
              "      <td>7.0</td>\n",
              "      <td>6.0</td>\n",
              "      <td>7.0</td>\n",
              "      <td>6.0</td>\n",
              "      <td>2.0</td>\n",
              "      <td>-1.0</td>\n",
              "    </tr>\n",
              "    <tr>\n",
              "      <th>2371911</th>\n",
              "      <td>2020-02-17</td>\n",
              "      <td>2.0</td>\n",
              "      <td>4.0</td>\n",
              "      <td>3.0</td>\n",
              "      <td>5.0</td>\n",
              "      <td>11.0</td>\n",
              "      <td>-2.0</td>\n",
              "    </tr>\n",
              "    <tr>\n",
              "      <th>2371912</th>\n",
              "      <td>2020-02-18</td>\n",
              "      <td>0.0</td>\n",
              "      <td>-1.0</td>\n",
              "      <td>3.0</td>\n",
              "      <td>2.0</td>\n",
              "      <td>9.0</td>\n",
              "      <td>-2.0</td>\n",
              "    </tr>\n",
              "    <tr>\n",
              "      <th>2371913</th>\n",
              "      <td>2020-02-19</td>\n",
              "      <td>0.0</td>\n",
              "      <td>0.0</td>\n",
              "      <td>2.0</td>\n",
              "      <td>3.0</td>\n",
              "      <td>8.0</td>\n",
              "      <td>-1.0</td>\n",
              "    </tr>\n",
              "  </tbody>\n",
              "</table>\n",
              "</div>"
            ],
            "text/plain": [
              "               date  ...  residential_percent_change_from_baseline\n",
              "2371909  2020-02-15  ...                                      -1.0\n",
              "2371910  2020-02-16  ...                                      -1.0\n",
              "2371911  2020-02-17  ...                                      -2.0\n",
              "2371912  2020-02-18  ...                                      -2.0\n",
              "2371913  2020-02-19  ...                                      -1.0\n",
              "\n",
              "[5 rows x 7 columns]"
            ]
          },
          "metadata": {
            "tags": []
          },
          "execution_count": 39
        }
      ]
    },
    {
      "cell_type": "markdown",
      "metadata": {
        "id": "fSpNnbkbYOFK"
      },
      "source": [
        "Se revisan los tipos de datos para transformar aquellos que lo requieran. Además de eso, cambiamos el nombre de las columnas para que sean más cortos. "
      ]
    },
    {
      "cell_type": "code",
      "metadata": {
        "colab": {
          "base_uri": "https://localhost:8080/"
        },
        "id": "hNrXfwq9YOFK",
        "outputId": "670dd4e4-3be3-472d-fd15-bfb5a456ac50"
      },
      "source": [
        "mexmo.dtypes"
      ],
      "execution_count": null,
      "outputs": [
        {
          "output_type": "execute_result",
          "data": {
            "text/plain": [
              "date                                                   object\n",
              "retail_and_recreation_percent_change_from_baseline    float64\n",
              "grocery_and_pharmacy_percent_change_from_baseline     float64\n",
              "parks_percent_change_from_baseline                    float64\n",
              "transit_stations_percent_change_from_baseline         float64\n",
              "workplaces_percent_change_from_baseline               float64\n",
              "residential_percent_change_from_baseline              float64\n",
              "dtype: object"
            ]
          },
          "metadata": {
            "tags": []
          },
          "execution_count": 40
        }
      ]
    },
    {
      "cell_type": "code",
      "metadata": {
        "id": "PtJr46w6YOFK"
      },
      "source": [
        "mexmo['date']=pd.to_datetime(mexmo['date'], errors='coerce')"
      ],
      "execution_count": null,
      "outputs": []
    },
    {
      "cell_type": "code",
      "metadata": {
        "id": "j4Bn164iYOFL"
      },
      "source": [
        "mexmo=mexmo.rename({\"date\":\"fecha\",'retail_and_recreation_percent_change_from_baseline':'retail_recreation','grocery_and_pharmacy_percent_change_from_baseline':'grocery_pharmacy','parks_percent_change_from_baseline':'parks','transit_stations_percent_change_from_baseline':'transit_station','workplaces_percent_change_from_baseline':'workplace','residential_percent_change_from_baseline':'residential'}, axis=1)"
      ],
      "execution_count": null,
      "outputs": []
    },
    {
      "cell_type": "code",
      "metadata": {
        "colab": {
          "base_uri": "https://localhost:8080/"
        },
        "id": "U_1Jnj7wYOFL",
        "outputId": "d98ea755-49a6-4ac5-e30f-8f93e17bdf4a"
      },
      "source": [
        "mexmo.dtypes"
      ],
      "execution_count": null,
      "outputs": [
        {
          "output_type": "execute_result",
          "data": {
            "text/plain": [
              "fecha                datetime64[ns]\n",
              "retail_recreation           float64\n",
              "grocery_pharmacy            float64\n",
              "parks                       float64\n",
              "transit_station             float64\n",
              "workplace                   float64\n",
              "residential                 float64\n",
              "dtype: object"
            ]
          },
          "metadata": {
            "tags": []
          },
          "execution_count": 43
        }
      ]
    },
    {
      "cell_type": "markdown",
      "metadata": {
        "id": "PrQcQG-WYOFL"
      },
      "source": [
        "Después, hicimos una visualización rápida de los datos y observamos que las fechas no estaban ordenadas correctamente. Por lo tanto, las ordenamos con la función DataFrame.sort_values()."
      ]
    },
    {
      "cell_type": "code",
      "metadata": {
        "colab": {
          "base_uri": "https://localhost:8080/",
          "height": 300
        },
        "id": "I2c2d8_PYOFM",
        "outputId": "4cf59674-dc19-4b61-ac66-d0bc891a1f9f"
      },
      "source": [
        "plt.plot(mexmo['fecha'],mexmo['retail_recreation'],mexmo['fecha'],mexmo['grocery_pharmacy'])"
      ],
      "execution_count": null,
      "outputs": [
        {
          "output_type": "execute_result",
          "data": {
            "text/plain": [
              "[<matplotlib.lines.Line2D at 0x7fbc331d3ad0>,\n",
              " <matplotlib.lines.Line2D at 0x7fbc2bc445d0>]"
            ]
          },
          "metadata": {
            "tags": []
          },
          "execution_count": 44
        },
        {
          "output_type": "display_data",
          "data": {
            "image/png": "[encoded data removed]",
            "text/plain": [
              "<Figure size 432x288 with 1 Axes>"
            ]
          },
          "metadata": {
            "tags": [],
            "needs_background": "light"
          }
        }
      ]
    },
    {
      "cell_type": "code",
      "metadata": {
        "id": "PWQ1eFqPYOFM"
      },
      "source": [
        "mexmo=mexmo.sort_values(by='fecha',axis=0)"
      ],
      "execution_count": null,
      "outputs": []
    },
    {
      "cell_type": "markdown",
      "metadata": {
        "id": "5Li1gp1bYOFM"
      },
      "source": [
        "Posteriormente, observamos la visualización y notamos que ya se veía de manera correcta. "
      ]
    },
    {
      "cell_type": "code",
      "metadata": {
        "colab": {
          "base_uri": "https://localhost:8080/",
          "height": 300
        },
        "id": "S3jhJj-ZYOFM",
        "outputId": "da80521c-247f-4c36-816a-808ec27a34a0"
      },
      "source": [
        "plt.plot(mexmo['fecha'],mexmo['retail_recreation'],mexmo['fecha'],mexmo['grocery_pharmacy'])"
      ],
      "execution_count": null,
      "outputs": [
        {
          "output_type": "execute_result",
          "data": {
            "text/plain": [
              "[<matplotlib.lines.Line2D at 0x7fbc2bc02f10>,\n",
              " <matplotlib.lines.Line2D at 0x7fbc2bba7950>]"
            ]
          },
          "metadata": {
            "tags": []
          },
          "execution_count": 46
        },
        {
          "output_type": "display_data",
          "data": {
            "image/png": "[encoded data removed]",
            "text/plain": [
              "<Figure size 432x288 with 1 Axes>"
            ]
          },
          "metadata": {
            "tags": [],
            "needs_background": "light"
          }
        }
      ]
    },
    {
      "cell_type": "code",
      "metadata": {
        "colab": {
          "base_uri": "https://localhost:8080/",
          "height": 300
        },
        "id": "5fDhn3yiYOFN",
        "outputId": "a5a97d6d-83fb-4ba6-c6a5-46d2ecca73b7"
      },
      "source": [
        "plt.plot(mexmo['fecha'],mexmo['transit_station'],mexmo['fecha'],mexmo['parks'])"
      ],
      "execution_count": null,
      "outputs": [
        {
          "output_type": "execute_result",
          "data": {
            "text/plain": [
              "[<matplotlib.lines.Line2D at 0x7fbc2bb66a50>,\n",
              " <matplotlib.lines.Line2D at 0x7fbc2bb14f10>]"
            ]
          },
          "metadata": {
            "tags": []
          },
          "execution_count": 47
        },
        {
          "output_type": "display_data",
          "data": {
            "image/png": "[encoded data removed]",
            "text/plain": [
              "<Figure size 432x288 with 1 Axes>"
            ]
          },
          "metadata": {
            "tags": [],
            "needs_background": "light"
          }
        }
      ]
    },
    {
      "cell_type": "markdown",
      "metadata": {
        "id": "S9B9JrfeYOFN"
      },
      "source": [
        "Con estas gráficas sencillas, es interesante observar que la movilidad residencial aumenta tras el inicio de la pandemia (color naranja), en contraste con la movilidad en los lugares de trabajo (color azul)."
      ]
    },
    {
      "cell_type": "code",
      "metadata": {
        "colab": {
          "base_uri": "https://localhost:8080/",
          "height": 300
        },
        "id": "N4ygN0IdYOFN",
        "outputId": "5826d57a-f08e-48ec-d2fc-f718864ea0e7"
      },
      "source": [
        "plt.plot(mexmo['fecha'],mexmo['workplace'],mexmo['fecha'],mexmo['residential'])"
      ],
      "execution_count": null,
      "outputs": [
        {
          "output_type": "execute_result",
          "data": {
            "text/plain": [
              "[<matplotlib.lines.Line2D at 0x7fbc2badb7d0>,\n",
              " <matplotlib.lines.Line2D at 0x7fbc2bb0cbd0>]"
            ]
          },
          "metadata": {
            "tags": []
          },
          "execution_count": 48
        },
        {
          "output_type": "display_data",
          "data": {
            "image/png": "[encoded data removed]",
            "text/plain": [
              "<Figure size 432x288 with 1 Axes>"
            ]
          },
          "metadata": {
            "tags": [],
            "needs_background": "light"
          }
        }
      ]
    },
    {
      "cell_type": "markdown",
      "metadata": {
        "id": "1q1vuwvKBsBW"
      },
      "source": [
        "## Creación del data frame final\n",
        "Finalmente, realizamos un merge para unir todos los data frames que tenemos por fecha, con el objetivo de reunir todos nuestros datos en una misma estructura. Esta misma será de gran utilidad para, en el futuro, tener toda la información relevante para nuestro estudio concentrada en un mismo data frame. "
      ]
    },
    {
      "cell_type": "code",
      "metadata": {
        "colab": {
          "base_uri": "https://localhost:8080/",
          "height": 195
        },
        "id": "dntXzzPOU55D",
        "outputId": "f7275349-84c9-470a-e0e0-70d594da6d0a"
      },
      "source": [
        "df1 = pd.merge(mexico_vac, mexico_muertes, on='fecha', left_index=True )\r\n",
        "df1.head()"
      ],
      "execution_count": null,
      "outputs": [
        {
          "output_type": "execute_result",
          "data": {
            "text/html": [
              "<div>\n",
              "<style scoped>\n",
              "    .dataframe tbody tr th:only-of-type {\n",
              "        vertical-align: middle;\n",
              "    }\n",
              "\n",
              "    .dataframe tbody tr th {\n",
              "        vertical-align: top;\n",
              "    }\n",
              "\n",
              "    .dataframe thead th {\n",
              "        text-align: right;\n",
              "    }\n",
              "</style>\n",
              "<table border=\"1\" class=\"dataframe\">\n",
              "  <thead>\n",
              "    <tr style=\"text-align: right;\">\n",
              "      <th></th>\n",
              "      <th>fecha</th>\n",
              "      <th>totalmente_vacunados</th>\n",
              "      <th>parcialmente_vacunados</th>\n",
              "      <th>muertes_acumuladas</th>\n",
              "      <th>muertes_diarias</th>\n",
              "    </tr>\n",
              "  </thead>\n",
              "  <tbody>\n",
              "    <tr>\n",
              "      <th>75140</th>\n",
              "      <td>2020-12-24</td>\n",
              "      <td>NaN</td>\n",
              "      <td>2924.0</td>\n",
              "      <td>121172</td>\n",
              "      <td>861</td>\n",
              "    </tr>\n",
              "    <tr>\n",
              "      <th>75139</th>\n",
              "      <td>2020-12-25</td>\n",
              "      <td>NaN</td>\n",
              "      <td>NaN</td>\n",
              "      <td>121837</td>\n",
              "      <td>665</td>\n",
              "    </tr>\n",
              "    <tr>\n",
              "      <th>75138</th>\n",
              "      <td>2020-12-26</td>\n",
              "      <td>NaN</td>\n",
              "      <td>NaN</td>\n",
              "      <td>122026</td>\n",
              "      <td>189</td>\n",
              "    </tr>\n",
              "    <tr>\n",
              "      <th>75137</th>\n",
              "      <td>2020-12-27</td>\n",
              "      <td>NaN</td>\n",
              "      <td>6824.0</td>\n",
              "      <td>122426</td>\n",
              "      <td>400</td>\n",
              "    </tr>\n",
              "    <tr>\n",
              "      <th>75136</th>\n",
              "      <td>2020-12-28</td>\n",
              "      <td>NaN</td>\n",
              "      <td>9579.0</td>\n",
              "      <td>122855</td>\n",
              "      <td>429</td>\n",
              "    </tr>\n",
              "  </tbody>\n",
              "</table>\n",
              "</div>"
            ],
            "text/plain": [
              "           fecha  totalmente_vacunados  ...  muertes_acumuladas  muertes_diarias\n",
              "75140 2020-12-24                   NaN  ...              121172              861\n",
              "75139 2020-12-25                   NaN  ...              121837              665\n",
              "75138 2020-12-26                   NaN  ...              122026              189\n",
              "75137 2020-12-27                   NaN  ...              122426              400\n",
              "75136 2020-12-28                   NaN  ...              122855              429\n",
              "\n",
              "[5 rows x 5 columns]"
            ]
          },
          "metadata": {
            "tags": []
          },
          "execution_count": 60
        }
      ]
    },
    {
      "cell_type": "code",
      "metadata": {
        "colab": {
          "base_uri": "https://localhost:8080/",
          "height": 279
        },
        "id": "4G_c1WhaWWEK",
        "outputId": "64336d0f-2dfd-44fb-d9e9-c933a4a05349"
      },
      "source": [
        "df2 = pd.merge(df1, mexmo, on='fecha', left_index = True)\r\n",
        "df2.head()"
      ],
      "execution_count": null,
      "outputs": [
        {
          "output_type": "execute_result",
          "data": {
            "text/html": [
              "<div>\n",
              "<style scoped>\n",
              "    .dataframe tbody tr th:only-of-type {\n",
              "        vertical-align: middle;\n",
              "    }\n",
              "\n",
              "    .dataframe tbody tr th {\n",
              "        vertical-align: top;\n",
              "    }\n",
              "\n",
              "    .dataframe thead th {\n",
              "        text-align: right;\n",
              "    }\n",
              "</style>\n",
              "<table border=\"1\" class=\"dataframe\">\n",
              "  <thead>\n",
              "    <tr style=\"text-align: right;\">\n",
              "      <th></th>\n",
              "      <th>fecha</th>\n",
              "      <th>totalmente_vacunados</th>\n",
              "      <th>parcialmente_vacunados</th>\n",
              "      <th>muertes_acumuladas</th>\n",
              "      <th>muertes_diarias</th>\n",
              "      <th>retail_recreation</th>\n",
              "      <th>grocery_pharmacy</th>\n",
              "      <th>parks</th>\n",
              "      <th>transit_station</th>\n",
              "      <th>workplace</th>\n",
              "      <th>residential</th>\n",
              "    </tr>\n",
              "  </thead>\n",
              "  <tbody>\n",
              "    <tr>\n",
              "      <th>2381169</th>\n",
              "      <td>2020-12-24</td>\n",
              "      <td>NaN</td>\n",
              "      <td>2924.0</td>\n",
              "      <td>121172</td>\n",
              "      <td>861</td>\n",
              "      <td>-8.0</td>\n",
              "      <td>39.0</td>\n",
              "      <td>-13.0</td>\n",
              "      <td>-8.0</td>\n",
              "      <td>-42.0</td>\n",
              "      <td>8.0</td>\n",
              "    </tr>\n",
              "    <tr>\n",
              "      <th>2373389</th>\n",
              "      <td>2020-12-24</td>\n",
              "      <td>NaN</td>\n",
              "      <td>2924.0</td>\n",
              "      <td>121172</td>\n",
              "      <td>861</td>\n",
              "      <td>-18.0</td>\n",
              "      <td>23.0</td>\n",
              "      <td>-29.0</td>\n",
              "      <td>-18.0</td>\n",
              "      <td>-33.0</td>\n",
              "      <td>6.0</td>\n",
              "    </tr>\n",
              "    <tr>\n",
              "      <th>2383503</th>\n",
              "      <td>2020-12-24</td>\n",
              "      <td>NaN</td>\n",
              "      <td>2924.0</td>\n",
              "      <td>121172</td>\n",
              "      <td>861</td>\n",
              "      <td>-10.0</td>\n",
              "      <td>47.0</td>\n",
              "      <td>0.0</td>\n",
              "      <td>-10.0</td>\n",
              "      <td>-34.0</td>\n",
              "      <td>8.0</td>\n",
              "    </tr>\n",
              "    <tr>\n",
              "      <th>2380780</th>\n",
              "      <td>2020-12-24</td>\n",
              "      <td>NaN</td>\n",
              "      <td>2924.0</td>\n",
              "      <td>121172</td>\n",
              "      <td>861</td>\n",
              "      <td>-23.0</td>\n",
              "      <td>13.0</td>\n",
              "      <td>-36.0</td>\n",
              "      <td>-31.0</td>\n",
              "      <td>-33.0</td>\n",
              "      <td>7.0</td>\n",
              "    </tr>\n",
              "    <tr>\n",
              "      <th>2381947</th>\n",
              "      <td>2020-12-24</td>\n",
              "      <td>NaN</td>\n",
              "      <td>2924.0</td>\n",
              "      <td>121172</td>\n",
              "      <td>861</td>\n",
              "      <td>-14.0</td>\n",
              "      <td>33.0</td>\n",
              "      <td>-25.0</td>\n",
              "      <td>4.0</td>\n",
              "      <td>-43.0</td>\n",
              "      <td>9.0</td>\n",
              "    </tr>\n",
              "  </tbody>\n",
              "</table>\n",
              "</div>"
            ],
            "text/plain": [
              "             fecha  totalmente_vacunados  ...  workplace  residential\n",
              "2381169 2020-12-24                   NaN  ...      -42.0          8.0\n",
              "2373389 2020-12-24                   NaN  ...      -33.0          6.0\n",
              "2383503 2020-12-24                   NaN  ...      -34.0          8.0\n",
              "2380780 2020-12-24                   NaN  ...      -33.0          7.0\n",
              "2381947 2020-12-24                   NaN  ...      -43.0          9.0\n",
              "\n",
              "[5 rows x 11 columns]"
            ]
          },
          "metadata": {
            "tags": []
          },
          "execution_count": 65
        }
      ]
    },
    {
      "cell_type": "code",
      "metadata": {
        "id": "Vb4zw6RKCEqK"
      },
      "source": [
        "mexico_covid_final = pd.merge(df2, mexico_casos, left_on = 'fecha', right_on='Date', left_index= True)\r\n",
        "mexico_covid_final = mexico_covid_final.drop(columns='Date')\r\n",
        "mexico_covid_final.head()"
      ],
      "execution_count": null,
      "outputs": []
    },
    {
      "cell_type": "markdown",
      "metadata": {
        "id": "g_dHc0pHYFAs"
      },
      "source": [
        "Y finalmente exportamos nuestro dataframe final a formato .csv con el fin de poder utilizarlo en el futuro sin volver a ejecutar todos los pasos anteriores."
      ]
    },
    {
      "cell_type": "code",
      "metadata": {
        "id": "xMQEWZoLYNH7"
      },
      "source": [
        "pd.mexico_covid_final.to_csv('.../mexico_covid_final.csv')"
      ],
      "execution_count": null,
      "outputs": []
    },
    {
      "cell_type": "markdown",
      "metadata": {
        "id": "GA2KUTr6IJ-O"
      },
      "source": [
        "#Perspectivas\n",
        "El data frame que hemos creado será útil para los siguientes pasos en el proyecto, los cuales son: \n",
        "* Probar la dependencia de los casos de COVID-19 con respecto de la movilidad urbana.\n",
        "* Generar un modelo SIR del COVID-19 en México.\n",
        "* Generar un modelo considerando otras variables como la movilidad urbana.\n",
        "* Generar un modelo de series de tiempo para intentar predecir los casos de COVID-19."
      ]
    },
    {
      "cell_type": "code",
      "metadata": {
        "id": "Q8Z2Wo7KYDD5"
      },
      "source": [
        ""
      ],
      "execution_count": null,
      "outputs": []
    }
  ]
}